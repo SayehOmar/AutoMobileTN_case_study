{
 "cells": [
  {
   "cell_type": "code",
   "execution_count": 26,
   "metadata": {},
   "outputs": [],
   "source": [
    "import requests\n",
    "from bs4 import BeautifulSoup\n",
    "import pandas as pd \n"
   ]
  },
  {
   "cell_type": "markdown",
   "metadata": {},
   "source": [
    "Accessing the website and extracting the div containing the HREF"
   ]
  },
  {
   "cell_type": "code",
   "execution_count": 27,
   "metadata": {},
   "outputs": [
    {
     "name": "stdout",
     "output_type": "stream",
     "text": [
      "Fetching URL: https://www.automobile.tn/fr/occasion/1\n",
      "/fr/occasion/land-rover/range-rover/56082\n",
      "/fr/occasion/land-rover/range-rover/56082\n",
      "/fr/occasion/land-rover/range-rover/56082\n",
      "/fr/occasion/land-rover/range-rover/56082\n",
      "/fr/occasion/land-rover/range-rover/56082\n",
      "/fr/occasion/land-rover/range-rover/56082\n",
      "/fr/occasion/land-rover/range-rover/56082\n",
      "/fr/occasion/land-rover/range-rover/56082\n",
      "/fr/occasion/land-rover/range-rover/56082\n",
      "/fr/occasion/land-rover/range-rover/56082\n",
      "/fr/occasion/land-rover/range-rover/56082\n",
      "/fr/occasion/land-rover/range-rover/56082\n",
      "Fetching URL: https://www.automobile.tn/fr/occasion/2\n"
     ]
    }
   ],
   "source": [
    "base_url = \"https://www.automobile.tn/fr/occasion/\"\n",
    "page_number = 1\n",
    "href=[]\n",
    "\n",
    "while True:\n",
    "    url = f\"{base_url}{page_number}\"\n",
    "    print(\"Fetching URL:\", url)  \n",
    "    response = requests.get(url)\n",
    "   \n",
    "\n",
    "    \n",
    "    if response.status_code != 200 or page_number==2 :\n",
    "        break  \n",
    "\n",
    "    soup = BeautifulSoup(response.content, \"html.parser\")\n",
    "    car_announcements = soup.find_all(\"div\", class_=\"occasion-item\")\n",
    "\n",
    "    for announcement in car_announcements:\n",
    "        \n",
    "        href.append(announcement.find(\"a\")[\"href\"])\n",
    "        print(href[page_number-1])\n",
    "        \n",
    "\n",
    "    page_number += 1\n",
    "\n",
    "\n",
    "\n",
    "\n",
    "\n",
    "\n"
   ]
  },
  {
   "cell_type": "markdown",
   "metadata": {},
   "source": [
    "Creating Lists to contain the data"
   ]
  },
  {
   "cell_type": "code",
   "execution_count": 28,
   "metadata": {},
   "outputs": [],
   "source": [
    "\n",
    "Brand = []\n",
    "Type = []\n",
    "Manufacture_year = []\n",
    "Mileage = []\n",
    "Price = []\n",
    "Body_type = []\n",
    "Fuel = []\n",
    "Horse_Power = []\n",
    "Gear_box = []\n",
    "Transmission = []\n",
    "Color = []\n",
    "Governorate = []\n",
    "Address = []\n"
   ]
  },
  {
   "cell_type": "markdown",
   "metadata": {},
   "source": [
    "Function to request the html of each link provided by the href list "
   ]
  },
  {
   "cell_type": "code",
   "execution_count": 29,
   "metadata": {},
   "outputs": [],
   "source": [
    "def extract(href):\n",
    "    headers = {\n",
    "        \"User-Agent\": \"Mozilla/5.0 (Windows NT 10.0; Win64; x64) AppleWebKit/537.36 (KHTML, like Gecko) Chrome/115.0.0.0 Safari/537.36 OPR/101.0.0.0\"\n",
    "    }\n",
    "    url = f\"https://www.automobile.tn{href}\"  \n",
    "    r = requests.get(url, headers=headers)  \n",
    "    soup = BeautifulSoup(r.content, \"html.parser\")\n",
    "    return soup"
   ]
  },
  {
   "cell_type": "markdown",
   "metadata": {},
   "source": [
    "Extracting the data"
   ]
  },
  {
   "cell_type": "code",
   "execution_count": 30,
   "metadata": {},
   "outputs": [],
   "source": [
    "for link in href:\n",
    "    \n",
    "    \n",
    "\n",
    "    div_elements = extract(link).find_all('div', class_='content-container container-lg')\n",
    "   \n",
    "    for div in div_elements:\n",
    "        h3_element = div.find('h3', class_='page-title')\n",
    "        if h3_element:\n",
    "            brand, type = h3_element.text.split(' ', 1)\n",
    "            Brand.append(brand)\n",
    "            Type.append(type)\n",
    "\n",
    "        price_span =div.find('div', class_='small-price').find('span')\n",
    "        Price.append(price_span.text.strip())   \n",
    "        li_elements = div.find('ul', class_='list-unstyled').find_all('li')\n",
    "        for li in li_elements:\n",
    "            label = li.find('label')\n",
    "            span = li.find('span')\n",
    "            \n",
    "            if label and span:\n",
    "                label_text = label.text.strip()\n",
    "                span_text = span.text.strip()\n",
    "                \n",
    "                if label_text == 'Kilométrage :':\n",
    "                    Mileage.append(span_text)\n",
    "                elif label_text == 'Année :':\n",
    "                    Manufacture_year.append(span_text)\n",
    "                elif label_text == 'Gouvernorat :':\n",
    "                    Governorate.append(span_text)\n",
    "\n",
    "        address_element = div.find('div', class_='description').find('p')\n",
    "        Address.append( address_element.text.strip())\n",
    "\n",
    "    tables = div.find('div', class_='technical-details').find_all('table', attrs={'data-index': 'main'})\n",
    "    for table in tables:\n",
    "        thead = table.find('thead')\n",
    "        if thead:\n",
    "            tbody = table.find('tbody')\n",
    "            if \"Carrosserie\" in thead.get_text():\n",
    "                Body_type.append( tbody.get_text().strip())\n",
    "            elif \"Energie\" in thead.get_text():\n",
    "                Fuel.append(tbody.get_text().strip())\n",
    "            elif \"Puissance fiscale\" in thead.get_text():\n",
    "                Horse_Power.append( tbody.get_text().strip())\n",
    "            elif \"Boîte\" in thead.get_text():\n",
    "                Gear_box.append(tbody.get_text().strip())\n",
    "            elif \"Transmission\" in thead.get_text():\n",
    "                Transmission.append (tbody.get_text().strip())\n",
    "            elif \"Couleur\" in thead.get_text():\n",
    "                Color.append(tbody.get_text().strip())\n",
    "\n",
    "    "
   ]
  }
 ],
 "metadata": {
  "kernelspec": {
   "display_name": "Python 3",
   "language": "python",
   "name": "python3"
  },
  "language_info": {
   "codemirror_mode": {
    "name": "ipython",
    "version": 3
   },
   "file_extension": ".py",
   "mimetype": "text/x-python",
   "name": "python",
   "nbconvert_exporter": "python",
   "pygments_lexer": "ipython3",
   "version": "3.11.1"
  }
 },
 "nbformat": 4,
 "nbformat_minor": 2
}
